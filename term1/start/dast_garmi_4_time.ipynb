{
  "cells": [
    {
      "cell_type": "code",
      "execution_count": 5,
      "metadata": {},
      "outputs": [
        {
          "name": "stdout",
          "output_type": "stream",
          "text": [
            "Your time is not carect!\n"
          ]
        }
      ],
      "source": [
        "\"\"\"\n",
        "سلام خوب هستید \n",
        "این کد هایی که مشاهده میکنیم برای پرسیدن زمان هستش \n",
        "\"\"\"\n",
        "time = int(input(\"What time is it?  \"))\n",
        "if 0<time<24:\n",
        "    if time < 10:\n",
        "        print (\"Good Morning!\")\n",
        "    elif time < 16:\n",
        "        print (\"Good Afternoon!\")\n",
        "    elif time < 19:\n",
        "        print (\"Good Evening! \") \n",
        "    else:\n",
        "        print (\"Good Night!\")\n",
        "else:\n",
        "    print(\"Your time is not carect!\")\n"
      ]
    }
  ],
  "metadata": {
    "kernelspec": {
      "display_name": "Python 3",
      "language": "python",
      "name": "python3"
    },
    "language_info": {
      "codemirror_mode": {
        "name": "ipython",
        "version": 3
      },
      "file_extension": ".py",
      "mimetype": "text/x-python",
      "name": "python",
      "nbconvert_exporter": "python",
      "pygments_lexer": "ipython3",
      "version": "3.12.2"
    }
  },
  "nbformat": 4,
  "nbformat_minor": 4
}
