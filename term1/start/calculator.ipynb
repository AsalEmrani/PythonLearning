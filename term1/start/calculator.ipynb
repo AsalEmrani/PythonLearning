{
  "cells": [
    {
      "cell_type": "code",
      "execution_count": 4,
      "metadata": {},
      "outputs": [
        {
          "name": "stdout",
          "output_type": "stream",
          "text": [
            "2.0 / 2.0 = 1.0\n"
          ]
        }
      ],
      "source": [
        "num_1 = float(input(\" Enter first number: \"))\n",
        "num_2 = float(input(\" Enter secend number: \"))\n",
        "\n",
        "operation = input(\"Choose the operator you want (+, -, *, /): \")\n",
        "\n",
        "if operation == \"+\":\n",
        "  result = num_1 + num_2\n",
        "  print(f\"{num_1} + {num_2} = {result}\")\n",
        "\n",
        "elif operation == \"-\":\n",
        "  result = num_1 - num_2\n",
        "  print(f\"{num_1} - {num_2} = {result}\")\n",
        "\n",
        "elif operation == \"*\":\n",
        "  result = num_1 * num_2\n",
        "  print(f\"{num_1} * {num_2} = {result}\")\n",
        "\n",
        "elif operation == \"/\":\n",
        "  result = num_1 / num_2\n",
        "  print(f\"{num_1} / {num_2} = {result}\")\n",
        "\n",
        "else:\n",
        "  print(\"عملگر نامعتبر!\")\n"
      ]
    }
  ],
  "metadata": {
    "kernelspec": {
      "display_name": "Python 3",
      "language": "python",
      "name": "python3"
    },
    "language_info": {
      "codemirror_mode": {
        "name": "ipython",
        "version": 3
      },
      "file_extension": ".py",
      "mimetype": "text/x-python",
      "name": "python",
      "nbconvert_exporter": "python",
      "pygments_lexer": "ipython3",
      "version": "3.12.2"
    }
  },
  "nbformat": 4,
  "nbformat_minor": 4
}
