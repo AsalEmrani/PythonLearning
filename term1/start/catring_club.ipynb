{
  "cells": [
    {
      "cell_type": "code",
      "execution_count": 3,
      "metadata": {},
      "outputs": [
        {
          "name": "stdout",
          "output_type": "stream",
          "text": [
            "sorry you can not join to our club until your height must be higher than 140\n"
          ]
        }
      ],
      "source": [
        "age = int(input( \"Enter your age:\" ))\n",
        "if age >= 10 :\n",
        "    height = float(input(\"Enter your height: \"))\n",
        "    if height >= 140 :\n",
        "         print (\"you can join to our club  \")\n",
        "    else:\n",
        "        print (\"sorry you can not join to our club until your height must be higher than 140\")\n",
        "else:\n",
        "    print (\"sorry you can not join to our club until your age be grater than 10\")\n"
      ]
    }
  ],
  "metadata": {
    "kernelspec": {
      "display_name": "Python 3",
      "language": "python",
      "name": "python3"
    },
    "language_info": {
      "codemirror_mode": {
        "name": "ipython",
        "version": 3
      },
      "file_extension": ".py",
      "mimetype": "text/x-python",
      "name": "python",
      "nbconvert_exporter": "python",
      "pygments_lexer": "ipython3",
      "version": "3.12.2"
    }
  },
  "nbformat": 4,
  "nbformat_minor": 4
}
