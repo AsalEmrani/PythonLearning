{
  "cells": [
    {
      "cell_type": "code",
      "execution_count": 3,
      "metadata": {},
      "outputs": [
        {
          "name": "stdout",
          "output_type": "stream",
          "text": [
            "عسل  تولدت مبارک \n",
            "امسال 12 ساله شدی \n"
          ]
        }
      ],
      "source": [
        "name = input(\" ENTER YOUR NAME : \")\n",
        "birth_date = input(\" Enter your date of birthday : \")\n",
        "date_today =input(\"Enter date we are in : \")\n",
        "age = int(date_today) - int(birth_date) \n",
        " \n",
        "print(name ,\"تولدت مبارک \")\n",
        "print(\"امسال\", age, \"ساله شدی \")"
      ]
    }
  ],
  "metadata": {
    "kernelspec": {
      "display_name": "Python 3",
      "language": "python",
      "name": "python3"
    },
    "language_info": {
      "codemirror_mode": {
        "name": "ipython",
        "version": 3
      },
      "file_extension": ".py",
      "mimetype": "text/x-python",
      "name": "python",
      "nbconvert_exporter": "python",
      "pygments_lexer": "ipython3",
      "version": "3.12.2"
    }
  },
  "nbformat": 4,
  "nbformat_minor": 4
}
