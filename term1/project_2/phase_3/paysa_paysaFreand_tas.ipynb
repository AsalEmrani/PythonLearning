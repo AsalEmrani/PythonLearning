{
  "cells": [
    {
      "cell_type": "code",
      "execution_count": 81,
      "metadata": {},
      "outputs": [
        {
          "name": "stdout",
          "output_type": "stream",
          "text": [
            "pysan : 3 5   pysan's friend : 6 2\n",
            "pysan : 2 1   pysan's friend : 1 5\n",
            "pysan : 6 3   pysan's friend : 1 2\n",
            "pysan : 3 2   pysan's friend : 5 4\n",
            "pysan : 6 1   pysan's friend : 5 4\n",
            "Restart the program\n"
          ]
        }
      ],
      "source": [
        "from sys import *\n",
        "from random import *\n",
        "\n",
        "for i in range(5):\n",
        "    \n",
        "    pn1 = randint(1,6)\n",
        "    pn2 = randint(1,6)\n",
        "    \n",
        "    pfn1 = randint(1,6)\n",
        "    pfn2 = randint(1,6)\n",
        "    \n",
        "    print(\"pysan :\",pn1,pn2,\"  pysan's friend :\",pfn1,pfn2)\n",
        "\n",
        "\n",
        "    if pfn1 == pfn2 and pn1 == pn2 :\n",
        "        print (\"***********************\")\n",
        "        exit()\n",
        "\n",
        "\n",
        "\n",
        "    if pn1 == pn2 :\n",
        "        print(\"pysan is winner\")\n",
        "        exit()\n",
        "    \n",
        "    if pfn1 == pfn2 :\n",
        "        print(\"pysan's friend is winner\")\n",
        "        exit()\n",
        "\n",
        "  \n",
        "\n",
        "print(\"Restart the program\")"
      ]
    }
  ],
  "metadata": {
    "kernelspec": {
      "display_name": "Python 3",
      "language": "python",
      "name": "python3"
    },
    "language_info": {
      "codemirror_mode": {
        "name": "ipython",
        "version": 3
      },
      "file_extension": ".py",
      "mimetype": "text/x-python",
      "name": "python",
      "nbconvert_exporter": "python",
      "pygments_lexer": "ipython3",
      "version": "3.12.2"
    }
  },
  "nbformat": 4,
  "nbformat_minor": 4
}
