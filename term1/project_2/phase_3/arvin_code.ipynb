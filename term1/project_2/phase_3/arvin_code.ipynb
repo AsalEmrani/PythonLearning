{
  "cells": [
    {
      "cell_type": "code",
      "execution_count": 21,
      "metadata": {},
      "outputs": [
        {
          "ename": "IndentationError",
          "evalue": "unindent does not match any outer indentation level (<string>, line 14)",
          "output_type": "error",
          "traceback": [
            "\u001b[1;36m  File \u001b[1;32m<string>:14\u001b[1;36m\u001b[0m\n\u001b[1;33m    elif user_choice == \"سنگ\" and computer_choice == \"قیچی\"\u001b[0m\n\u001b[1;37m                                                            ^\u001b[0m\n\u001b[1;31mIndentationError\u001b[0m\u001b[1;31m:\u001b[0m unindent does not match any outer indentation level\n"
          ]
        }
      ],
      "source": [
        "import random\n",
        "\n",
        "player_score = 0\n",
        "computer_score = 0\n",
        "while True\n",
        "\n",
        "user_choice = input(\"انتخاب خود را وارد کنید (سنگ، کاغذ، قیچی): \")\n",
        "computer_choice = random.choice(\"سنگ\", \"کاغذ\", \"قیچی\")\n",
        "print(f\"شما {user_choice} را انتخاب کردید و کامپیوتر {computer_choice} را انتخاب کرد.\")\n",
        "\n",
        "if user_choice == computer_choice:\n",
        "    print(\"مساوی شد!\")\n",
        "\n",
        "  elif user_choice == \"سنگ\" and computer_choice == \"قیچی\" \n",
        "\n",
        "  elif user_choice == \"کاغذ\" and computer_choice == \"سنگ\"\n",
        "\n",
        "  elif user_choice == \"قیچی\" and computer_choice == \"کاغذ\":\n",
        "    player_score += 1\n",
        "    print(\"شما برنده شدید!\")\n",
        "  else:\n",
        "    computer_score += 1\n",
        "    print(\"شما باختید!\")\n"
      ]
    }
  ],
  "metadata": {
    "kernelspec": {
      "display_name": "Python 3",
      "language": "python",
      "name": "python3"
    },
    "language_info": {
      "codemirror_mode": {
        "name": "ipython",
        "version": 3
      },
      "file_extension": ".py",
      "mimetype": "text/x-python",
      "name": "python",
      "nbconvert_exporter": "python",
      "pygments_lexer": "ipython3",
      "version": "3.12.2"
    }
  },
  "nbformat": 4,
  "nbformat_minor": 4
}
