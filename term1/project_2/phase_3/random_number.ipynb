{
  "cells": [
    {
      "cell_type": "code",
      "execution_count": 1,
      "metadata": {},
      "outputs": [
        {
          "name": "stdout",
          "output_type": "stream",
          "text": [
            "\n",
            "             * * * * * * * * * * * * * *\n",
            "             *      Guess a number     *\n",
            "             *         between         *\n",
            "             *        10 and 99        *\n",
            "             * * * * * * * * * * * * * *\n",
            "\n",
            "\n",
            "             * * * * * * * * * * * * * *\n",
            "             *       You have : 6      *\n",
            "             *         Chances         *\n",
            "             * * * * * * * * * * * * * *\n",
            "\n",
            "\n",
            "             My number is greater than  50  !  You have  5 other chances\n",
            "\n",
            "             My number is greater than  60  !  You have  4 other chances\n",
            "\n",
            "             My number is greater than  70  !  You have  3 other chances\n",
            "\n",
            "             My number is lower than  99  !  You have  2 other chances\n",
            "\n",
            "             My number is greater than  80  !  You have  1 other chances\n"
          ]
        }
      ],
      "source": [
        "from sys import *\n",
        "from random import *\n",
        "\n",
        "\n",
        "print()\n",
        "print(\"             * * * * * * * * * * * * * *\")\n",
        "print(\"             *      Guess a number     *\")\n",
        "print(\"             *         between         *\")\n",
        "print(\"             *        10 and 99        *\")\n",
        "print(\"             * * * * * * * * * * * * * *\")\n",
        "print()\n",
        "\n",
        "level = input(\"choose level. Enter a number( 1:easy - 2:medium - 3:hard ) : \")\n",
        "\n",
        "if level == \"1\" :\n",
        "    n = 9\n",
        "elif level == \"2\" :\n",
        "    n = 6\n",
        "elif level == \"3\" :\n",
        "    n = 5\n",
        "else:\n",
        "    print(\"invalid Data : Restart the program.\")\n",
        "    exit()\n",
        "    \n",
        "print()\n",
        "print(\"             * * * * * * * * * * * * * *\")\n",
        "print(\"             *       You have :\",n,\"     *\")\n",
        "print(\"             *         Chances         *\")\n",
        "print(\"             * * * * * * * * * * * * * *\")\n",
        "print()\n",
        "  \n",
        "number = randint(10, 99)\n",
        "\n",
        "for i in range(n,0,-1):\n",
        "    guess_number = int(input(\"             Enter your guess : \"))\n",
        "    print()\n",
        "    if guess_number == number:\n",
        "        print(\"             Congratulations You Win ! :)\")\n",
        "        exit()\n",
        "    elif guess_number < number:\n",
        "        print(\"             My number is greater than \" ,guess_number,\" !  You have \",i-1,\"other chances\")\n",
        "    else:\n",
        "        print(\"             My number is lower than \",guess_number,\" !  You have \",i-1,\"other chances\")\n",
        "        \n",
        "print(\"             You Lose ! :(\")\n",
        "print(\"             My Number is \",number)"
      ]
    }
  ],
  "metadata": {
    "kernelspec": {
      "display_name": "Python 3",
      "language": "python",
      "name": "python3"
    },
    "language_info": {
      "codemirror_mode": {
        "name": "ipython",
        "version": 3
      },
      "file_extension": ".py",
      "mimetype": "text/x-python",
      "name": "python",
      "nbconvert_exporter": "python",
      "pygments_lexer": "ipython3",
      "version": "3.12.2"
    }
  },
  "nbformat": 4,
  "nbformat_minor": 4
}
