{
  "cells": [
    {
      "cell_type": "code",
      "execution_count": 1,
      "metadata": {},
      "outputs": [
        {
          "name": "stdout",
          "output_type": "stream",
          "text": [
            "min =  9.0\n"
          ]
        }
      ],
      "source": [
        "a  = float(input(\" Enter a number for a : \"))\n",
        "b  = float(input(\" Enter a number for b : \"))\n",
        "c  = float(input(\" Enter a number for c : \"))\n",
        "d  = float(input(\" Enter a number for d : \"))\n",
        "\n",
        "if a<b :\n",
        "    min_number = a\n",
        "else:\n",
        "    min_number = b\n",
        "\n",
        "if c < min_number:\n",
        "    min_number = c\n",
        "\n",
        "if d < min_number:\n",
        "    min_number = d\n",
        "\n",
        "print(\"min = \" , min_number)\n"
      ]
    }
  ],
  "metadata": {
    "kernelspec": {
      "display_name": "Python 3",
      "language": "python",
      "name": "python3"
    },
    "language_info": {
      "codemirror_mode": {
        "name": "ipython",
        "version": 3
      },
      "file_extension": ".py",
      "mimetype": "text/x-python",
      "name": "python",
      "nbconvert_exporter": "python",
      "pygments_lexer": "ipython3",
      "version": "3.12.2"
    }
  },
  "nbformat": 4,
  "nbformat_minor": 4
}
