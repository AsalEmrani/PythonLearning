{
  "cells": [
    {
      "cell_type": "code",
      "execution_count": 3,
      "metadata": {},
      "outputs": [
        {
          "name": "stdout",
          "output_type": "stream",
          "text": [
            "527\n"
          ]
        }
      ],
      "source": [
        "number = int(input(\"Enter a three digit number: \"))\n",
        "n1 = number // 100\n",
        "n2 = (number // 10) % 10\n",
        "n3 = number % 10\n",
        "print( str(n3) + str(2) + str(n1) )"
      ]
    },
    {
      "cell_type": "markdown",
      "metadata": {},
      "source": [
        "345\n",
        "345 // 100 => 3\n",
        "345 // 10  => 34 % 10 => 4\n",
        "345 %  10  => 5\n"
      ]
    }
  ],
  "metadata": {
    "kernelspec": {
      "display_name": "Python 3",
      "language": "python",
      "name": "python3"
    },
    "language_info": {
      "codemirror_mode": {
        "name": "ipython",
        "version": 3
      },
      "file_extension": ".py",
      "mimetype": "text/x-python",
      "name": "python",
      "nbconvert_exporter": "python",
      "pygments_lexer": "ipython3",
      "version": "3.12.2"
    }
  },
  "nbformat": 4,
  "nbformat_minor": 4
}
