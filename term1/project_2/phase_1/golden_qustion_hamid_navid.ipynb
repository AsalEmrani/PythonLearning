{
  "cells": [
    {
      "cell_type": "code",
      "execution_count": 7,
      "metadata": {},
      "outputs": [
        {
          "name": "stdout",
          "output_type": "stream",
          "text": [
            "True\n"
          ]
        }
      ],
      "source": [
        "week_number = int(input(\"Enter week number of month: (it must be equal or lower than 4) \"))\n",
        "if week_number <= 4 :\n",
        "    day_number = int(input(\"Enter day number in week: (it must be equal or lower than 7) \"))\n",
        "    if day_number <= 7 :\n",
        "        if week_number == 4 : # last week\n",
        "            if day_number == 7: # friday\n",
        "                print(\"True\")\n",
        "            else:\n",
        "                print(\"Flase\")\n",
        "        else:\n",
        "            if day_number == 6: # Tuesday\n",
        "                print(\"True\")\n",
        "            else:\n",
        "                print(\"Flase\")\n",
        "    else:\n",
        "        print(\"The day number must be equal or lower than 7\")    \n",
        "else:\n",
        "    print(\"The week number must be equal or lower than 4\")"
      ]
    }
  ],
  "metadata": {
    "kernelspec": {
      "display_name": "Python 3",
      "language": "python",
      "name": "python3"
    },
    "language_info": {
      "codemirror_mode": {
        "name": "ipython",
        "version": 3
      },
      "file_extension": ".py",
      "mimetype": "text/x-python",
      "name": "python",
      "nbconvert_exporter": "python",
      "pygments_lexer": "ipython3",
      "version": "3.12.2"
    }
  },
  "nbformat": 4,
  "nbformat_minor": 4
}
