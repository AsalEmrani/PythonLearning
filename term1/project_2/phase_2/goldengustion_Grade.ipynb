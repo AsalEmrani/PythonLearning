{
  "cells": [
    {
      "cell_type": "code",
      "execution_count": 5,
      "metadata": {},
      "outputs": [
        {
          "name": "stdout",
          "output_type": "stream",
          "text": [
            "غیر مدرسه \n"
          ]
        }
      ],
      "source": [
        "age = int(input(\"Enter student age: \"))\n",
        "if 7<=age<=12:\n",
        "    print(\"دوره ابتدایی\", \"پایه\", age-6)\n",
        "elif 13<=age<=15:\n",
        "     print(\"دوره اول متوسطه \", \"پایه\", age-6)\n",
        "elif 16<=age<=18:\n",
        "     print(\"دوره دوم متوسطه\", \"پایه\", age-6)\n",
        "else :\n",
        "     print(\"غیر مدرسه \")"
      ]
    }
  ],
  "metadata": {
    "kernelspec": {
      "display_name": "Python 3",
      "language": "python",
      "name": "python3"
    },
    "language_info": {
      "codemirror_mode": {
        "name": "ipython",
        "version": 3
      },
      "file_extension": ".py",
      "mimetype": "text/x-python",
      "name": "python",
      "nbconvert_exporter": "python",
      "pygments_lexer": "ipython3",
      "version": "3.12.2"
    }
  },
  "nbformat": 4,
  "nbformat_minor": 4
}
