{
  "cells": [
    {
      "cell_type": "code",
      "execution_count": 5,
      "metadata": {},
      "outputs": [
        {
          "name": "stdout",
          "output_type": "stream",
          "text": [
            "14 x 1 = 14\n",
            "14 x 2 = 28\n",
            "14 x 3 = 42\n",
            "14 x 4 = 56\n",
            "14 x 5 = 70\n",
            "14 x 6 = 84\n",
            "14 x 7 = 98\n",
            "14 x 8 = 112\n",
            "14 x 9 = 126\n",
            "14 x 10 = 140\n"
          ]
        }
      ],
      "source": [
        "i = 0\n",
        "while i<10 :\n",
        "    i = i+1\n",
        "    Result = 14 * i\n",
        "    print(\"14 x\", i, \"=\", Result)"
      ]
    }
  ],
  "metadata": {
    "kernelspec": {
      "display_name": "Python 3",
      "language": "python",
      "name": "python3"
    },
    "language_info": {
      "codemirror_mode": {
        "name": "ipython",
        "version": 3
      },
      "file_extension": ".py",
      "mimetype": "text/x-python",
      "name": "python",
      "nbconvert_exporter": "python",
      "pygments_lexer": "ipython3",
      "version": "3.12.2"
    }
  },
  "nbformat": 4,
  "nbformat_minor": 4
}
