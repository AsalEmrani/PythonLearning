{
 "cells": [
  {
   "cell_type": "code",
   "execution_count": 9,
   "metadata": {},
   "outputs": [
    {
     "ename": "SyntaxError",
     "evalue": "unexpected character after line continuation character (4052232059.py, line 7)",
     "output_type": "error",
     "traceback": [
      "\u001b[1;36m  Cell \u001b[1;32mIn[9], line 7\u001b[1;36m\u001b[0m\n\u001b[1;33m    print(f\\\"{num_1} + {num_2} = {result})\u001b[0m\n\u001b[1;37m            ^\u001b[0m\n\u001b[1;31mSyntaxError\u001b[0m\u001b[1;31m:\u001b[0m unexpected character after line continuation character\n"
     ]
    }
   ],
   "source": [
    "num_1 = float(input(\" Enter first number: \"))\n",
    "num_2 = float(input(\" Enter secend number:\"))\n",
    "\n",
    "operation = input(\"Choose the operator you want (+, -, *, /): \")\n",
    "if operation == \"+\":\n",
    "    result = num_1 + num_2\n",
    "    print(f\"{num_1} + {num_2} = {result}\")\n",
    "elif operation == \"-\":\n",
    "    result = num_1 - num_2\n",
    "    print(f\"{num_1} - {num_2} = {result}\")\n",
    "elif operation == \"*\":\n",
    "    result = num_1 * num_2\n",
    "    print(f\\\"{num_1} * {num_2} = {result}\")\n",
    "\n",
    "elif operation == \"/\":\n",
    "    result = num_1 / num_2\\n\"\n",
    "    print(f\\\"{num_1} / {num_2} = {result}\")\n",
    "        \n",
    "else:\\n\",\n",
    "    print(\\\"Wrong operator!\\\")"
   ]
  }
 ],
 "metadata": {
  "kernelspec": {
   "display_name": "Python 3",
   "language": "python",
   "name": "python3"
  },
  "language_info": {
   "codemirror_mode": {
    "name": "ipython",
    "version": 3
   },
   "file_extension": ".py",
   "mimetype": "text/x-python",
   "name": "python",
   "nbconvert_exporter": "python",
   "pygments_lexer": "ipython3",
   "version": "3.12.2"
  }
 },
 "nbformat": 4,
 "nbformat_minor": 2
}
