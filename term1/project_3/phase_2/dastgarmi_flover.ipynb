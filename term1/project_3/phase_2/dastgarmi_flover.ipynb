{
 "cells": [
  {
   "cell_type": "code",
   "execution_count": 1,
   "metadata": {},
   "outputs": [],
   "source": [
    "import turtle\n",
    "turtle.bgcolor(\"#90ee90\")\n",
    "turtle.color(\"red\")\n",
    "\n",
    "for i in range (10) :\n",
    "    for j in range (20,90,2):\n",
    "        turtle.pensize(j)\n",
    "        turtle.forward(5)        \n",
    "\n",
    "    turtle.penup()\n",
    "    turtle.goto(0,0)\n",
    "    turtle.pendown()\n",
    "    \n",
    "    turtle.left(36)\n",
    "\n",
    "turtle.color(\"orange\")\n",
    "turtle.pensize(100)\n",
    "turtle.goto(0,0)\n",
    "\n",
    "turtle.done()\n"
   ]
  }
 ],
 "metadata": {
  "kernelspec": {
   "display_name": "Python 3",
   "language": "python",
   "name": "python3"
  },
  "language_info": {
   "codemirror_mode": {
    "name": "ipython",
    "version": 3
   },
   "file_extension": ".py",
   "mimetype": "text/x-python",
   "name": "python",
   "nbconvert_exporter": "python",
   "pygments_lexer": "ipython3",
   "version": "3.12.2"
  }
 },
 "nbformat": 4,
 "nbformat_minor": 2
}
