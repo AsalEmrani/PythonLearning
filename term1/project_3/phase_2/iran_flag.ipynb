{
 "cells": [
  {
   "cell_type": "code",
   "execution_count": 7,
   "metadata": {},
   "outputs": [
    {
     "ename": "KeyboardInterrupt",
     "evalue": "",
     "output_type": "error",
     "traceback": [
      "\u001b[1;31m---------------------------------------------------------------------------\u001b[0m",
      "\u001b[1;31mKeyboardInterrupt\u001b[0m                         Traceback (most recent call last)",
      "Cell \u001b[1;32mIn[7], line 31\u001b[0m\n\u001b[0;32m     24\u001b[0m     left(\u001b[38;5;241m90\u001b[39m)\n\u001b[0;32m     25\u001b[0m     end_fill()\n\u001b[1;32m---> 31\u001b[0m \u001b[43mdone\u001b[49m\u001b[43m(\u001b[49m\u001b[43m)\u001b[49m\n",
      "File \u001b[1;32m<string>:8\u001b[0m, in \u001b[0;36mmainloop\u001b[1;34m()\u001b[0m\n",
      "File \u001b[1;32mc:\\Users\\leyla\\AppData\\Local\\Programs\\Python\\Python312\\Lib\\turtle.py:803\u001b[0m, in \u001b[0;36mTurtleScreenBase.mainloop\u001b[1;34m(self)\u001b[0m\n\u001b[0;32m    790\u001b[0m \u001b[38;5;28;01mdef\u001b[39;00m \u001b[38;5;21mmainloop\u001b[39m(\u001b[38;5;28mself\u001b[39m):\n\u001b[0;32m    791\u001b[0m \u001b[38;5;250m    \u001b[39m\u001b[38;5;124;03m\"\"\"Starts event loop - calling Tkinter's mainloop function.\u001b[39;00m\n\u001b[0;32m    792\u001b[0m \n\u001b[0;32m    793\u001b[0m \u001b[38;5;124;03m    No argument.\u001b[39;00m\n\u001b[1;32m   (...)\u001b[0m\n\u001b[0;32m    801\u001b[0m \n\u001b[0;32m    802\u001b[0m \u001b[38;5;124;03m    \"\"\"\u001b[39;00m\n\u001b[1;32m--> 803\u001b[0m     \u001b[38;5;28;43mself\u001b[39;49m\u001b[38;5;241;43m.\u001b[39;49m\u001b[43mcv\u001b[49m\u001b[38;5;241;43m.\u001b[39;49m\u001b[43mtk\u001b[49m\u001b[38;5;241;43m.\u001b[39;49m\u001b[43mmainloop\u001b[49m\u001b[43m(\u001b[49m\u001b[43m)\u001b[49m\n",
      "\u001b[1;31mKeyboardInterrupt\u001b[0m: "
     ]
    },
    {
     "ename": "",
     "evalue": "",
     "output_type": "error",
     "traceback": [
      "\u001b[1;31mThe Kernel crashed while executing code in the current cell or a previous cell. \n",
      "\u001b[1;31mPlease review the code in the cell(s) to identify a possible cause of the failure. \n",
      "\u001b[1;31mClick <a href='https://aka.ms/vscodeJupyterKernelCrash'>here</a> for more info. \n",
      "\u001b[1;31mView Jupyter <a href='command:jupyter.viewOutput'>log</a> for further details."
     ]
    }
   ],
   "source": [
    "from turtle import *\n",
    "\n",
    "bgcolor(\"white\")\n",
    "colors = [\"green\", \"white\", \"red\"]\n",
    "\n",
    "'''\n",
    "for c in range(0,3):\n",
    "    goto(0, c * -50)\n",
    "    pensize(50)\n",
    "    color(colors[c])\n",
    "    forward(200)\n",
    "'''\n",
    "penup()\n",
    "goto(-200,200) \n",
    "\n",
    "for i in range (2) :\n",
    "    pendown()\n",
    "    pensize(20)\n",
    "    color(colors[0])\n",
    "    begin_fill()\n",
    "    forward(200)\n",
    "    left (90)\n",
    "    forward(100)\n",
    "    left(90)\n",
    "    end_fill()\n",
    "    write(\"الله\", font=(\"B Titr\", 45, \"normal\"))\n",
    "\n",
    "\n",
    "\n",
    "    \n",
    "\n",
    "    \n",
    "\n",
    "done()"
   ]
  }
 ],
 "metadata": {
  "kernelspec": {
   "display_name": "Python 3",
   "language": "python",
   "name": "python3"
  },
  "language_info": {
   "codemirror_mode": {
    "name": "ipython",
    "version": 3
   },
   "file_extension": ".py",
   "mimetype": "text/x-python",
   "name": "python",
   "nbconvert_exporter": "python",
   "pygments_lexer": "ipython3",
   "version": "3.12.2"
  }
 },
 "nbformat": 4,
 "nbformat_minor": 2
}
