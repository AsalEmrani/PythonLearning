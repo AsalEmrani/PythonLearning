{
 "cells": [
  {
   "cell_type": "code",
   "execution_count": 6,
   "metadata": {},
   "outputs": [
    {
     "name": "stdout",
     "output_type": "stream",
     "text": [
      "رمز تصادفی شما: 290164\n"
     ]
    }
   ],
   "source": [
    "import random\n",
    "import string\n",
    "\n",
    "password_length = int(input(\"طول رمز مورد نظر خود را وارد کنید: \"))\n",
    "\n",
    "#characters = \"abcdefghijklmnopqrstuvwxyzABCDEDGHIJKLMNOPQRSTUVWXYZ1234567890!#@$%^&*()_-\"\n",
    "\n",
    "characters =  \"1234567890\"\n",
    "password = []\n",
    "\n",
    "for i in range(password_length):\n",
    "  password.append(random.choice(characters))\n",
    "\n",
    "print(f\"رمز تصادفی شما: {''.join(password)}\")\n"
   ]
  }
 ],
 "metadata": {
  "kernelspec": {
   "display_name": "Python 3",
   "language": "python",
   "name": "python3"
  },
  "language_info": {
   "codemirror_mode": {
    "name": "ipython",
    "version": 3
   },
   "file_extension": ".py",
   "mimetype": "text/x-python",
   "name": "python",
   "nbconvert_exporter": "python",
   "pygments_lexer": "ipython3",
   "version": "3.12.2"
  }
 },
 "nbformat": 4,
 "nbformat_minor": 2
}
