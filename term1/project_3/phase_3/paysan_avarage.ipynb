{
 "cells": [
  {
   "cell_type": "code",
   "execution_count": 1,
   "metadata": {},
   "outputs": [
    {
     "name": "stdout",
     "output_type": "stream",
     "text": [
      "19.35\n"
     ]
    }
   ],
   "source": [
    "from statistics import *\n",
    "\n",
    "lesson_count = int(input(\"How many lessons are there?\" ))\n",
    "lessons = []\n",
    "\n",
    "for i in range(lesson_count):\n",
    "    score = input(\"Enter lesson \" + str(i+1) + \" score:\")\n",
    "    lessons.append(float(score))\n",
    "\n",
    "print(mean(lessons))\n"
   ]
  },
  {
   "cell_type": "code",
   "execution_count": 2,
   "metadata": {},
   "outputs": [
    {
     "name": "stdout",
     "output_type": "stream",
     "text": [
      "1.0\n"
     ]
    }
   ],
   "source": [
    "lesson_count = int(input(\"How many lessons are there?\" ))\n",
    "lessons = []\n",
    "\n",
    "for i in range(lesson_count):\n",
    "    score = input(\"Enter lesson \" + str(i+1) + \" score:\")\n",
    "    lessons.append(float(score))\n",
    "\n",
    "print( sum(lessons) / lesson_count )\n"
   ]
  },
  {
   "cell_type": "code",
   "execution_count": 2,
   "metadata": {},
   "outputs": [
    {
     "name": "stdout",
     "output_type": "stream",
     "text": [
      "19.0\n"
     ]
    }
   ],
   "source": [
    "lesson_count = int(input(\"How many lessons are there?\" ))\n",
    "total = 0\n",
    "\n",
    "for i in range(lesson_count):\n",
    "    score = input(\"Enter lesson \" + str(i+1) + \" score:\")\n",
    "    total = total + float(score)\n",
    "\n",
    "print( total / lesson_count )"
   ]
  }
 ],
 "metadata": {
  "kernelspec": {
   "display_name": "Python 3",
   "language": "python",
   "name": "python3"
  },
  "language_info": {
   "codemirror_mode": {
    "name": "ipython",
    "version": 3
   },
   "file_extension": ".py",
   "mimetype": "text/x-python",
   "name": "python",
   "nbconvert_exporter": "python",
   "pygments_lexer": "ipython3",
   "version": "3.12.2"
  }
 },
 "nbformat": 4,
 "nbformat_minor": 2
}
