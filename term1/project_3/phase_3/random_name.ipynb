{
 "cells": [
  {
   "cell_type": "code",
   "execution_count": 3,
   "metadata": {},
   "outputs": [
    {
     "name": "stdout",
     "output_type": "stream",
     "text": [
      "['Jacob', 'Joe', 'Jennifer']\n"
     ]
    }
   ],
   "source": [
    "from random import *\n",
    "\n",
    "name = ['Adam','Adrian','Alan','Alexander','Andrew',\n",
    "     'Anthony','Austin','Benjamin','Blake','Boris',\n",
    "     'Brandon','Brian','Cameron','Carl','Charles',\n",
    "     'Christian','Christopher','Colin','Connor',\n",
    "     'Dan','David','Dominic','Dylan','Edward',\n",
    "     'Eric','Evan','Frank','Gavin','Gordon',\n",
    "     'Harry','Ian','Isaac','Jack','Jacob',\n",
    "     'Jake','James','Jason','Joe','John',\n",
    "     'Jonathan','Joseph','Joshua','Julian',\n",
    "     'Justin','Keith','Kevin','Leonard','Liam',\n",
    "     'Lucas','Luke','Matt','Max','Michael','Nathan',\n",
    "     'Neil','Nicholas','Oliver','Owen','Paul','Peter',\n",
    "     'Phil','Piers','Richard','Robert','Ryan','Sam',\n",
    "     'Sean','Sebastian','Simon','Stephen','Steven',\n",
    "     'Stewart','Thomas','Tim','Trevor','Victor','Warren','William',\n",
    "     'Abigail','Alexandra','Alison','Amanda','Amelia','Amy',\n",
    "     'Andrea','Angela','Anna','Anne','Audrey','Ava','Bella',\n",
    "     'Bernadette','Carol','Caroline','Carolyn','Chloe','Claire',\n",
    "     'Deirdre','Diana','Diane','Donna','Dorothy','Elizabeth','Ella',\n",
    "     'Emily','Emma','Faith','Felicity','Fiona','Gabrielle','Grace',\n",
    "     'Hannah','Heather','Irene','Jan','Jane','Jasmine','Jennifer',\n",
    "     'Jessica','Joan','Joanne','Julia','Karen','Katherine','Kimberly',\n",
    "     'Kylie','Lauren','Leah','Lillian','Lily','Lisa','Madeleine',\n",
    "     'Maria','Mary','Megan','Melanie','Michelle','Molly','Natalie',\n",
    "     'Nicola','Olivia','Penelope','Pippa','Rachel','Rebecca','Rose',\n",
    "     'Ruth','Sally','Samantha','Sarah','Sonia','Sophie','Stephanie',\n",
    "     'Sue','Theresa','Tracey','Una','Vanessa','Victoria','Virginia',\n",
    "     'Wanda','Wendy','Yvonne','Zoe']\n",
    "winner = []\n",
    "\n",
    "for i in range(len(name)):\n",
    "    random_index = randint(0, len(name)-1)\n",
    "\n",
    "    if name[random_index] not in winner:\n",
    "        winner.append(name[random_index])      \n",
    "    \n",
    "    if len(winner) == 3:\n",
    "        break\n",
    "\n",
    "print(winner)\n",
    "\n"
   ]
  },
  {
   "cell_type": "code",
   "execution_count": 5,
   "metadata": {},
   "outputs": [
    {
     "name": "stdout",
     "output_type": "stream",
     "text": [
      "['Tim', 'Gordon', 'Robert']\n"
     ]
    }
   ],
   "source": [
    "from random import *\n",
    "\n",
    "name = ['Adam','Adrian','Alan','Alexander','Andrew',\n",
    "     'Anthony','Austin','Benjamin','Blake','Boris',\n",
    "     'Brandon','Brian','Cameron','Carl','Charles',\n",
    "     'Christian','Christopher','Colin','Connor',\n",
    "     'Dan','David','Dominic','Dylan','Edward',\n",
    "     'Eric','Evan','Frank','Gavin','Gordon',\n",
    "     'Harry','Ian','Isaac','Jack','Jacob',\n",
    "     'Jake','James','Jason','Joe','John',\n",
    "     'Jonathan','Joseph','Joshua','Julian',\n",
    "     'Justin','Keith','Kevin','Leonard','Liam',\n",
    "     'Lucas','Luke','Matt','Max','Michael','Nathan',\n",
    "     'Neil','Nicholas','Oliver','Owen','Paul','Peter',\n",
    "     'Phil','Piers','Richard','Robert','Ryan','Sam',\n",
    "     'Sean','Sebastian','Simon','Stephen','Steven',\n",
    "     'Stewart','Thomas','Tim','Trevor','Victor','Warren','William',\n",
    "     'Abigail','Alexandra','Alison','Amanda','Amelia','Amy',\n",
    "     'Andrea','Angela','Anna','Anne','Audrey','Ava','Bella',\n",
    "     'Bernadette','Carol','Caroline','Carolyn','Chloe','Claire',\n",
    "     'Deirdre','Diana','Diane','Donna','Dorothy','Elizabeth','Ella',\n",
    "     'Emily','Emma','Faith','Felicity','Fiona','Gabrielle','Grace',\n",
    "     'Hannah','Heather','Irene','Jan','Jane','Jasmine','Jennifer',\n",
    "     'Jessica','Joan','Joanne','Julia','Karen','Katherine','Kimberly',\n",
    "     'Kylie','Lauren','Leah','Lillian','Lily','Lisa','Madeleine',\n",
    "     'Maria','Mary','Megan','Melanie','Michelle','Molly','Natalie',\n",
    "     'Nicola','Olivia','Penelope','Pippa','Rachel','Rebecca','Rose',\n",
    "     'Ruth','Sally','Samantha','Sarah','Sonia','Sophie','Stephanie',\n",
    "     'Sue','Theresa','Tracey','Una','Vanessa','Victoria','Virginia',\n",
    "     'Wanda','Wendy','Yvonne','Zoe']\n",
    "winner = []\n",
    "\n",
    "while len(winner) < 3:\n",
    "    random_index = randint(0, len(name)-1)\n",
    "\n",
    "    if name[random_index] not in winner:\n",
    "        winner.append(name[random_index])\n",
    "\n",
    "print(winner)\n",
    "\n"
   ]
  }
 ],
 "metadata": {
  "kernelspec": {
   "display_name": "Python 3",
   "language": "python",
   "name": "python3"
  },
  "language_info": {
   "codemirror_mode": {
    "name": "ipython",
    "version": 3
   },
   "file_extension": ".py",
   "mimetype": "text/x-python",
   "name": "python",
   "nbconvert_exporter": "python",
   "pygments_lexer": "ipython3",
   "version": "3.12.2"
  }
 },
 "nbformat": 4,
 "nbformat_minor": 2
}
