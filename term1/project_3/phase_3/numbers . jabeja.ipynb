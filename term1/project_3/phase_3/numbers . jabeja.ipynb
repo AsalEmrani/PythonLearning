{
 "cells": [
  {
   "cell_type": "code",
   "execution_count": 1,
   "metadata": {},
   "outputs": [
    {
     "name": "stdout",
     "output_type": "stream",
     "text": [
      "[2, 3, 4, 5]\n",
      "[5, 4, 3, 2]\n"
     ]
    }
   ],
   "source": [
    "n = int(input(\"چند تا عدد میخواهید وارد کنید ؟\"))\n",
    "number = []\n",
    "for i in range(n):\n",
    "    a = int(input(\"عدد \"+ str(i+1) +\"را وارد کنید :\"))\n",
    "    number.append(a)\n",
    "\n",
    "reverse=[]\n",
    "for i in range(n):\n",
    "    b = number[n-i-1]\n",
    "    reverse.append(b)\n",
    "\n",
    "print(number)\n",
    "print(reverse)\n"
   ]
  }
 ],
 "metadata": {
  "kernelspec": {
   "display_name": "Python 3",
   "language": "python",
   "name": "python3"
  },
  "language_info": {
   "codemirror_mode": {
    "name": "ipython",
    "version": 3
   },
   "file_extension": ".py",
   "mimetype": "text/x-python",
   "name": "python",
   "nbconvert_exporter": "python",
   "pygments_lexer": "ipython3",
   "version": "3.12.2"
  }
 },
 "nbformat": 4,
 "nbformat_minor": 2
}
