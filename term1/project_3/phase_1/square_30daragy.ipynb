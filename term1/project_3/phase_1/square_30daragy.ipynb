{
  "cells": [
    {
      "cell_type": "code",
      "execution_count": 1,
      "metadata": {},
      "outputs": [
        {
          "ename": "Terminator",
          "evalue": "",
          "output_type": "error",
          "traceback": [
            "\u001b[1;31m---------------------------------------------------------------------------\u001b[0m",
            "\u001b[1;31mTerminator\u001b[0m                                Traceback (most recent call last)",
            "Cell \u001b[1;32mIn[1], line 19\u001b[0m\n\u001b[0;32m     17\u001b[0m turtle\u001b[38;5;241m.\u001b[39mpenup()\n\u001b[0;32m     18\u001b[0m turtle\u001b[38;5;241m.\u001b[39mgoto(x, y)\n\u001b[1;32m---> 19\u001b[0m \u001b[43mturtle\u001b[49m\u001b[38;5;241;43m.\u001b[39;49m\u001b[43mpendown\u001b[49m\u001b[43m(\u001b[49m\u001b[43m)\u001b[49m\n\u001b[0;32m     20\u001b[0m turtle\u001b[38;5;241m.\u001b[39msetheading(\u001b[38;5;241m30\u001b[39m)\n\u001b[0;32m     22\u001b[0m \u001b[38;5;66;03m# رسم مربع با 4 ضلع\u001b[39;00m\n",
            "File \u001b[1;32m<string>:5\u001b[0m, in \u001b[0;36mpendown\u001b[1;34m()\u001b[0m\n",
            "\u001b[1;31mTerminator\u001b[0m: "
          ]
        }
      ],
      "source": [
        "import turtle\n",
        "import random\n",
        "\n",
        "# تنظیم صفحه\n",
        "screen = turtle.Screen()\n",
        "screen.setup(width=600, height=500)\n",
        "turtle.speed(10)  \n",
        "\n",
        "# رسم مربع ها\n",
        "for i in range(100):\n",
        "    # دریافت اندازه، موقعیت و زاویه تصادفی\n",
        "    size = random.randint(10, 100)\n",
        "    x = random.randint(-250, 250)\n",
        "    y = random.randint(-200, 200)\n",
        "\n",
        "    # رفتن به موقعیت و تنظیم جهت به 30 درجه\n",
        "    turtle.penup()\n",
        "    turtle.goto(x, y)\n",
        "    turtle.pendown()\n",
        "    turtle.setheading(30)\n",
        "\n",
        "    # رسم مربع با 4 ضلع\n",
        "    for j in range(4):\n",
        "        turtle.forward(size)\n",
        "        turtle.right(90)\n",
        "\n",
        "# نگه داشتن پنجره باز\n",
        "turtle.done()\n"
      ]
    }
  ],
  "metadata": {
    "kernelspec": {
      "display_name": "Python 3",
      "language": "python",
      "name": "python3"
    },
    "language_info": {
      "codemirror_mode": {
        "name": "ipython",
        "version": 3
      },
      "file_extension": ".py",
      "mimetype": "text/x-python",
      "name": "python",
      "nbconvert_exporter": "python",
      "pygments_lexer": "ipython3",
      "version": "3.12.2"
    }
  },
  "nbformat": 4,
  "nbformat_minor": 4
}
