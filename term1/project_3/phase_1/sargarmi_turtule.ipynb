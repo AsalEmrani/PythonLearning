{
  "cells": [
    {
      "cell_type": "code",
      "execution_count": 3,
      "metadata": {},
      "outputs": [
        {
          "ename": "",
          "evalue": "",
          "output_type": "error",
          "traceback": [
            "\u001b[1;31mThe Kernel crashed while executing code in the current cell or a previous cell. \n",
            "\u001b[1;31mPlease review the code in the cell(s) to identify a possible cause of the failure. \n",
            "\u001b[1;31mClick <a href='https://aka.ms/vscodeJupyterKernelCrash'>here</a> for more info. \n",
            "\u001b[1;31mView Jupyter <a href='command:jupyter.viewOutput'>log</a> for further details."
          ]
        }
      ],
      "source": [
        "from turtle import *\n",
        "from math import *\n",
        "\n",
        "shape(\"turtle\")\n",
        "\n",
        "lt(90)\n",
        "speed(200)\n",
        "lv = 11\n",
        "l  = 100\n",
        "s  = 17\n",
        "\n",
        "penup()\n",
        "goto(0,-100)\n",
        "bk(l)\n",
        "pendown()\n",
        "fd(l)\n",
        "\n",
        "def draw_tree(l, level):\n",
        "    l = 3.0/4.0*l\n",
        "    lt(s)\n",
        "    fd(l)\n",
        "    level +=1\n",
        "    if level<lv:\n",
        "        draw_tree(l, level)\n",
        "\n",
        "    bk(l)\n",
        "    rt(2*s)\n",
        "    fd(l)\n",
        "    if level<=lv:\n",
        "        draw_tree(l, level)\n",
        "    bk(l)\n",
        "    lt(s)\n",
        "    level -=1\n",
        "\n",
        "speed(200)        \n",
        "draw_tree(l, 2)"
      ]
    }
  ],
  "metadata": {
    "kernelspec": {
      "display_name": "Python 3",
      "language": "python",
      "name": "python3"
    },
    "language_info": {
      "codemirror_mode": {
        "name": "ipython",
        "version": 3
      },
      "file_extension": ".py",
      "mimetype": "text/x-python",
      "name": "python",
      "nbconvert_exporter": "python",
      "pygments_lexer": "ipython3",
      "version": "3.12.2"
    }
  },
  "nbformat": 4,
  "nbformat_minor": 4
}
