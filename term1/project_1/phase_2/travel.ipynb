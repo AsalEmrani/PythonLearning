{
  "cells": [
    {
      "cell_type": "code",
      "execution_count": 1,
      "metadata": {},
      "outputs": [
        {
          "name": "stdout",
          "output_type": "stream",
          "text": [
            "Your gas price in one way:  216000.0\n",
            "Your gas price in total:  432000.0\n"
          ]
        }
      ],
      "source": [
        "distance = int(input(\"Enter the travel distance (km): \")) #  در این خط ما برای مسافت تهران به شیراز یک متقیر ساختیم و از کابر به کمک دستور اینپوت مسافت را پرسیدیم و به کمک دستور این این مسافت وارد شده را به عدد صحیح تبدیل کردیم .\n",
        "gas_need = int(input(\"Enter your gas need per 100km (litr): \"))  # در این خط مثل خط بالا برای مقدار بنزینی که نیاز داریم متقیر ساختیم و از کاربر خواستیم که مقدار مورد نیازش را وارد کنه \n",
        "gas_price = int(input(\"Enter the gas price per litr (toman): \")) # در این خط برای قیمت بنزین متقیر ساختیم و با دستور اینپوت از کابر قیمت را پرسیدیم و با کمک دستور اینت اون را به عدد صحیح تبدیل کردیم \n",
        "\n",
        "price_one_way = (distance*gas_need/100) * gas_price #در این خط ما برای خرج های مسافت رفتمان یک متقیر ساختیم و به کمک یه عملکرد ریاضی مقدار خرج را بدست اوردیم \n",
        "print(\"Your gas price in one way: \", price_one_way) # در این خط برای این که مقدار خرج رفتمان به کاربر نشان داده بشه از دستور پرینت استفاده کردیم \n",
        "print(\"Your gas price in total: \", price_one_way * 2) #  در این خط برای این که مقدار خرج های رفت و برگشت به کاربر نشان داده  شود از دستور پرینت استفاده کردیم و بعد از  نوشته ای که برای کمک به کاربر  بود . متقیر خرج مسیر رفت را دوبرابر کردییم که خرج مسیر رفت و برگشت مشخص شود "
      ]
    },
    {
      "cell_type": "markdown",
      "metadata": {},
      "source": [
        "100                  8\n",
        "900                  x\n",
        "\n",
        "x= 900 * 8 / 100"
      ]
    }
  ],
  "metadata": {
    "kernelspec": {
      "display_name": "Python 3",
      "language": "python",
      "name": "python3"
    },
    "language_info": {
      "codemirror_mode": {
        "name": "ipython",
        "version": 3
      },
      "file_extension": ".py",
      "mimetype": "text/x-python",
      "name": "python",
      "nbconvert_exporter": "python",
      "pygments_lexer": "ipython3",
      "version": "3.12.2"
    }
  },
  "nbformat": 4,
  "nbformat_minor": 4
}
