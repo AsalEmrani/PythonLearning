{
  "cells": [
    {
      "cell_type": "code",
      "execution_count": 8,
      "metadata": {},
      "outputs": [
        {
          "name": "stdout",
          "output_type": "stream",
          "text": [
            "time four dounload (minute):  0.1288958496476116\n"
          ]
        }
      ],
      "source": [
        "size_of_the_file = float(input(\"Enter your movie file size (MB): \")) \n",
        "internet_speed = float(input(\"Enter your internet speed (Mbet): \")) \n",
        " \n",
        "time_for_donload = (size_of_the_file)/(internet_speed/8)/60  # هر مگابیت بر حسب ثانیه است پس  بهتر است ان را  تقسیم بر 60 کنیم تا بر حسب دقیقه در اید  \n",
        "print(\"time four dounload (minute): \", time_for_donload)  \n"
      ]
    },
    {
      "cell_type": "markdown",
      "metadata": {},
      "source": [
        "8(Mbet)    =      1(MB)   \n",
        "\n",
        "\n",
        "10 megabat \n",
        "20 megabit "
      ]
    }
  ],
  "metadata": {
    "kernelspec": {
      "display_name": "Python 3",
      "language": "python",
      "name": "python3"
    },
    "language_info": {
      "codemirror_mode": {
        "name": "ipython",
        "version": 3
      },
      "file_extension": ".py",
      "mimetype": "text/x-python",
      "name": "python",
      "nbconvert_exporter": "python",
      "pygments_lexer": "ipython3",
      "version": "3.12.2"
    }
  },
  "nbformat": 4,
  "nbformat_minor": 4
}
