{
  "cells": [
    {
      "cell_type": "code",
      "execution_count": 2,
      "metadata": {},
      "outputs": [
        {
          "name": "stdout",
          "output_type": "stream",
          "text": [
            "Your age is  36\n",
            "You can set your image\n"
          ]
        }
      ],
      "source": [
        "currnt_year = input(\"Enter the current year: \")\n",
        "birth_year = input(\"Enter your birth year: \")\n",
        "\n",
        "your_age = int(currnt_year) - int(birth_year) \n",
        "print(\"Your age is \", your_age)\n",
        "\n",
        "if your_age >= 15 :\n",
        "    print(\"You can set your image\")\n",
        "else:\n",
        "    print(\"Under age!\")"
      ]
    }
  ],
  "metadata": {
    "kernelspec": {
      "display_name": "Python 3",
      "language": "python",
      "name": "python3"
    },
    "language_info": {
      "codemirror_mode": {
        "name": "ipython",
        "version": 3
      },
      "file_extension": ".py",
      "mimetype": "text/x-python",
      "name": "python",
      "nbconvert_exporter": "python",
      "pygments_lexer": "ipython3",
      "version": "3.12.2"
    }
  },
  "nbformat": 4,
  "nbformat_minor": 4
}
