{
  "cells": [
    {
      "cell_type": "markdown",
      "metadata": {},
      "source": [
        "شش ماه اول 31 روز \n",
        "شش ماه دوم 30 روز \n",
        "نیاز نیست اسفند را بشماریم "
      ]
    },
    {
      "cell_type": "markdown",
      "metadata": {},
      "source": [
        "یک عدد ماه و یک عدد روز بگیره\n",
        "بگه چندمین روز سال هستش\n"
      ]
    },
    {
      "cell_type": "code",
      "execution_count": 6,
      "metadata": {},
      "outputs": [
        {
          "name": "stdout",
          "output_type": "stream",
          "text": [
            "Total day:  278\n"
          ]
        }
      ],
      "source": [
        "month = int(input(\"Enter the month: \"))\n",
        "day = int(input(\"Enter the day: \"))\n",
        "\n",
        "month_day = 0\n",
        "month31 = 0\n",
        "month30 = 0\n",
        "\n",
        "if month <= 6:\n",
        "    month31 = month-1\n",
        "else:\n",
        "    month31 = 6\n",
        "    month30 = month - 6 - 1\n",
        "\n",
        "month_day = (month31 * 31) + (month30 * 30) + day\n",
        "print(\"Total day: \", month_day)"
      ]
    }
  ],
  "metadata": {
    "kernelspec": {
      "display_name": "Python 3",
      "language": "python",
      "name": "python3"
    },
    "language_info": {
      "codemirror_mode": {
        "name": "ipython",
        "version": 3
      },
      "file_extension": ".py",
      "mimetype": "text/x-python",
      "name": "python",
      "nbconvert_exporter": "python",
      "pygments_lexer": "ipython3",
      "version": "3.12.2"
    }
  },
  "nbformat": 4,
  "nbformat_minor": 4
}
