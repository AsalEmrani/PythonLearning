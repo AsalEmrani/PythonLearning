{
 "cells": [
  {
   "cell_type": "code",
   "execution_count": 2,
   "metadata": {
    "vscode": {
     "languageId": "ruby"
    }
   },
   "outputs": [
    {
     "name": "stdout",
     "output_type": "stream",
     "text": [
      "hi mester  taha\n"
     ]
    }
   ],
   "source": [
    "jender= input(\"whats your jender  (mard/zan) ?\")\n",
    "name= input(\"whats your name ?\")\n",
    "if jender==\"zan\":\n",
    "    print(\"hi ms\" , name)\n",
    "\n",
    "else :\n",
    "   print (\"hi mester \" , name)\n",
    "   "
   ]
  }
 ],
 "metadata": {
  "kernelspec": {
   "display_name": "Python 3",
   "language": "python",
   "name": "python3"
  },
  "language_info": {
   "codemirror_mode": {
    "name": "ipython",
    "version": 3
   },
   "file_extension": ".py",
   "mimetype": "text/x-python",
   "name": "python",
   "nbconvert_exporter": "python",
   "pygments_lexer": "ipython3",
   "version": "3.12.2"
  }
 },
 "nbformat": 4,
 "nbformat_minor": 2
}
