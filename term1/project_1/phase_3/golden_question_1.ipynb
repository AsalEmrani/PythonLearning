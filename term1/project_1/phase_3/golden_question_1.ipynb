{
  "cells": [
    {
      "cell_type": "markdown",
      "metadata": {},
      "source": [
        "هزینه پذیرایی 5 هزارتومان\n",
        "هزینه ورودی 20 هزارتومان\n",
        "\n",
        "هر ماشین 10 نفر \n",
        "کرایه هر ماشین 150 هزار تومان\n",
        "\n",
        "هزینه بازدید به ازای هر نفر ؟"
      ]
    },
    {
      "cell_type": "code",
      "execution_count": 2,
      "metadata": {},
      "outputs": [
        {
          "name": "stdout",
          "output_type": "stream",
          "text": [
            "Van Count:  6\n",
            "Total Price:  2400000\n",
            "Price per student:  40000.0\n"
          ]
        }
      ],
      "source": [
        "zarfiyet_van = 10\n",
        "van_price = 150000\n",
        "paziraie = 5000\n",
        "voroodi = 20000\n",
        "student_count = int(input(\"Enter student count: \"))\n",
        "\n",
        "van_count = int(student_count / zarfiyet_van)\n",
        "if student_count % zarfiyet_van > 0 :\n",
        "    van_count = van_count + 1\n",
        "\n",
        "print(\"Van Count: \", van_count)\n",
        "\n",
        "total_price = (van_count * van_price) + (student_count * paziraie) + (student_count * voroodi)\n",
        "print(\"Total Price: \", total_price)\n",
        "\n",
        "price = total_price / student_count\n",
        "print(\"Price per student: \", price)"
      ]
    }
  ],
  "metadata": {
    "kernelspec": {
      "display_name": "Python 3",
      "language": "python",
      "name": "python3"
    },
    "language_info": {
      "codemirror_mode": {
        "name": "ipython",
        "version": 3
      },
      "file_extension": ".py",
      "mimetype": "text/x-python",
      "name": "python",
      "nbconvert_exporter": "python",
      "pygments_lexer": "ipython3",
      "version": "3.12.2"
    }
  },
  "nbformat": 4,
  "nbformat_minor": 4
}
