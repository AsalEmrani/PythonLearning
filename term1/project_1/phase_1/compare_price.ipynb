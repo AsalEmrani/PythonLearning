{
  "cells": [
    {
      "cell_type": "code",
      "execution_count": 3,
      "metadata": {
        "trusted": true
      },
      "outputs": [
        {
          "name": "stdout",
          "output_type": "stream",
          "text": [
            "4200000\n",
            "4205000\n",
            "False\n"
          ]
        }
      ],
      "source": [
        "hen=12000\n",
        "rice=24000\n",
        "sum1=(50*hen) + (150 * rice)\n",
        "\n",
        "headset= 800000\n",
        "xbox= 3500000\n",
        "chips= 5000\n",
        "sum2= headset + xbox + chips\n",
        "\n",
        "print (sum1)\n",
        "print (sum2)\n",
        "\n",
        "print (sum1>sum2)"
      ]
    },
    {
      "cell_type": "code",
      "execution_count": null,
      "metadata": {
        "trusted": true
      },
      "outputs": [],
      "source": []
    }
  ],
  "metadata": {
    "kernelspec": {
      "display_name": "Python 3",
      "language": "python",
      "name": "python3"
    },
    "language_info": {
      "codemirror_mode": {
        "name": "ipython",
        "version": 3
      },
      "file_extension": ".py",
      "mimetype": "text/x-python",
      "name": "python",
      "nbconvert_exporter": "python",
      "pygments_lexer": "ipython3",
      "version": "3.12.2"
    }
  },
  "nbformat": 4,
  "nbformat_minor": 4
}
