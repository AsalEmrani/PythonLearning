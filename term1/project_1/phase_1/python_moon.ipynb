{
  "cells": [
    {
      "cell_type": "code",
      "execution_count": 2,
      "metadata": {
        "trusted": true
      },
      "outputs": [
        {
          "name": "stdout",
          "output_type": "stream",
          "text": [
            "total weight :  780\n",
            "total weight on moon :  130.0\n"
          ]
        }
      ],
      "source": [
        "s = 160\n",
        "a = 300\n",
        "\n",
        "weight = (3 * s) + a\n",
        "weight_moon = weight / 6\n",
        "\n",
        "print(\"total weight : \", weight)\n",
        "print(\"total weight on moon : \", weight_moon)"
      ]
    },
    {
      "cell_type": "code",
      "execution_count": null,
      "metadata": {
        "trusted": true
      },
      "outputs": [],
      "source": []
    }
  ],
  "metadata": {
    "kernelspec": {
      "display_name": "Python 3",
      "language": "python",
      "name": "python3"
    },
    "language_info": {
      "codemirror_mode": {
        "name": "ipython",
        "version": 3
      },
      "file_extension": ".py",
      "mimetype": "text/x-python",
      "name": "python",
      "nbconvert_exporter": "python",
      "pygments_lexer": "ipython3",
      "version": "3.12.2"
    }
  },
  "nbformat": 4,
  "nbformat_minor": 4
}
