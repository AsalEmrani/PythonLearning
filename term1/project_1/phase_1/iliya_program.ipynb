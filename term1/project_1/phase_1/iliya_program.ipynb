{
 "cells": [
  {
   "cell_type": "code",
   "execution_count": null,
   "metadata": {},
   "outputs": [],
   "source": [
    "7math = 19.5\n",
    "science == 18.5\n",
    "arabic = 19\n",
    "english = 20\n",
    "total score = math + arabic + science + engglish\n",
    "Print result\n",
    "result = total score / 4\n"
   ]
  },
  {
   "cell_type": "markdown",
   "metadata": {},
   "source": [
    "7math\n",
    "نام متغیر نباید با عدد شروع شود"
   ]
  },
  {
   "cell_type": "markdown",
   "metadata": {},
   "source": [
    "science == 18.5\n",
    "باید یک مساوی داشته باشد. دو مساوی برای تساوی استفاده میشود نه مقداردهی"
   ]
  },
  {
   "cell_type": "markdown",
   "metadata": {},
   "source": [
    "engglish\n",
    "اینجا خطای تایپی دارد باید اصلاح شود"
   ]
  },
  {
   "cell_type": "markdown",
   "metadata": {},
   "source": [
    "total score\n",
    "عنوان متغیر نباید اسپیس داشته باشد باید آندرلاین یا حروف بزرگ داشته باشد"
   ]
  },
  {
   "cell_type": "markdown",
   "metadata": {},
   "source": [
    "Print result\n",
    "result = total score / 4\n",
    "اول باید متغیر ریزالت تعریف شود یعنی خط دوم اول بیاید بعد پرینت انجام شود"
   ]
  },
  {
   "cell_type": "markdown",
   "metadata": {},
   "source": [
    "Print result\n",
    "باید ریزالت داخل پرانتز باشد و کلمه پرینت با حرف کوچک نوشته شود"
   ]
  },
  {
   "cell_type": "code",
   "execution_count": 1,
   "metadata": {},
   "outputs": [
    {
     "name": "stdout",
     "output_type": "stream",
     "text": [
      "19.25\n"
     ]
    }
   ],
   "source": [
    "math = 19.5\n",
    "science = 18.5\n",
    "arabic = 19\n",
    "english = 20\n",
    "total_score = math + arabic + science + english\n",
    "\n",
    "result = total_score / 4\n",
    "print(result)"
   ]
  }
 ],
 "metadata": {
  "kernelspec": {
   "display_name": "Python 3",
   "language": "python",
   "name": "python3"
  },
  "language_info": {
   "codemirror_mode": {
    "name": "ipython",
    "version": 3
   },
   "file_extension": ".py",
   "mimetype": "text/x-python",
   "name": "python",
   "nbconvert_exporter": "python",
   "pygments_lexer": "ipython3",
   "version": "3.12.2"
  }
 },
 "nbformat": 4,
 "nbformat_minor": 2
}
