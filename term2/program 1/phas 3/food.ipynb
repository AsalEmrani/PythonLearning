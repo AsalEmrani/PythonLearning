{
 "cells": [
  {
   "cell_type": "code",
   "execution_count": 1,
   "metadata": {},
   "outputs": [
    {
     "name": "stdout",
     "output_type": "stream",
     "text": [
      "3 برنده تصادفی: ['pizza', 'kabab barg', 'dampokhtak']\n"
     ]
    }
   ],
   "source": [
    "import random\n",
    "\n",
    "food_items = [\"ghormesabzi\", \"pizza\", \"joje\", \"kabab\",\"kabaktorki\",\"geme\", \"fesenjon\", \"zereshkplo ba morg\", \"dize\",\"glee mahi\", \"ash reshte\", \"loba plo\", \"kofte\" ,\"khorak sabzi\" ,\"dampokhtak\", \"albalo plo\", \"kabab barg\" , \"kabab soltani\", \"kale josh\", \"galie bademjan\", \"koko sabzi\", \"khorak goaht\", \"makarani\", \"adass plo \", \"mirza gasemi\", \"ash doq\", \"halim\", \"kabab tabe\" ]\n",
    "\n",
    "winning_foods = []\n",
    "\n",
    "while len(winning_foods) < 3:\n",
    "    random_index = random.randint(0, len(food_items) - 1)\n",
    "\n",
    "    if food_items[random_index] not in winning_foods:\n",
    "        winning_foods.append(food_items[random_index])\n",
    "\n",
    "\n",
    "print(f\"3 برنده تصادفی: {winning_foods}\")\n"
   ]
  }
 ],
 "metadata": {
  "kernelspec": {
   "display_name": "Python 3",
   "language": "python",
   "name": "python3"
  },
  "language_info": {
   "codemirror_mode": {
    "name": "ipython",
    "version": 3
   },
   "file_extension": ".py",
   "mimetype": "text/x-python",
   "name": "python",
   "nbconvert_exporter": "python",
   "pygments_lexer": "ipython3",
   "version": "3.12.2"
  }
 },
 "nbformat": 4,
 "nbformat_minor": 2
}
