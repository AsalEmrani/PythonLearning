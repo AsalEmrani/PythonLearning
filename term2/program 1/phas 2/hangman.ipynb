{
 "cells": [
  {
   "cell_type": "code",
   "execution_count": 1,
   "metadata": {},
   "outputs": [
    {
     "name": "stdout",
     "output_type": "stream",
     "text": [
      "sistan\n",
      "['-', '-', '-', '-', '-', '-'] guess a character: s['-', '-', '-', '-', '-', '-'] guess a character: i['-', '-', '-', '-', '-', '-'] guess a character: t['-', '-', '-', '-', '-', '-'] guess a character: a['-', '-', '-', '-', '-', '-'] guess a character: n['-', '-', '-', '-', '-', '-'] guess a character: e\\ no! you have 8 more chances\n",
      "['-', '-', '-', '-', '-', '-'] guess a character: ['-', '-', '-', '-', '-', '-'] guess a character: ['-', '-', '-', '-', '-', '-'] guess a character: ['-', '-', '-', '-', '-', '-'] guess a character: 3 no! you have 7 more chances\n",
      "['-', '-', '-', '-', '-', '-'] guess a character: ['-', '-', '-', '-', '-', '-'] guess a character: ['-', '-', '-', '-', '-', '-'] guess a character: ['-', '-', '-', '-', '-', '-'] guess a character: "
     ]
    }
   ],
   "source": [
    "from random import *\n",
    "\n",
    "names = ['alborz','ardebil','bushehr','azarbaijan','esfahan','fars','gilan',\n",
    "        'golestan','hamadan','hormozgan','ilam','kerman','kermanshah',\n",
    "        'khuzestan','kordestan','lorestan','markazi','mazandaran','khorasan',\n",
    "        'qazvin','qom','semnan','sistan','tehran','yazd','zanjan']\n",
    "\n",
    "answer = \"y\"\n",
    "while answer == \"y\":  \n",
    "    n=randint(0,len(names)-1)\n",
    "    name=names[n]\n",
    "    print(name)\n",
    "\n",
    "    charNumber=len(name)\n",
    "    userList=[\"-\"]*charNumber    \n",
    "    print(userList, end = ' ')\n",
    "\n",
    "    wrongs = 0 \n",
    "    while userList.count(\"-\")>0 :\n",
    "        print(\"guess a character: \", end = '')\n",
    "        guess=input(\"\")\n",
    "        print (guess,end = '')\n",
    "\n",
    "        if name.count(guess) == 0 :\n",
    "            wrongs = wrongs + 1 \n",
    "            c = charNumber + 3 - wrongs\n",
    "            if c > 0 :\n",
    "                print (\" no! you have\" , c , \"more chances\")\n",
    "            else :\n",
    "                print (\" no! you have no more chances\")\n",
    "\n",
    "            if wrongs == charNumber + 3 :\n",
    "                print(\" :( -You lose !-\")\n",
    "                break\n",
    "        \n",
    "        '''\n",
    "        hasChar = False\n",
    "        for i in range(charNumber):\n",
    "            if guess == name[i]:\n",
    "                hasChar = True\n",
    "                userList[i]=guess\n",
    "                \n",
    "        if hasChar == False:\n",
    "            print(\"  there is not any \" + guess)\n",
    "        else:\n",
    "            print(\"\")\n",
    "        '''\n",
    "        print(userList, end = ' ')\n",
    "\n",
    "    if charNumber > wrongs :\n",
    "        print(\":) you wwwwwwiiiiiiinnnnnn\")\n",
    "    \n",
    "    answer = input(\"do you want to continue? (y/n) : \")\n"
   ]
  }
 ],
 "metadata": {
  "kernelspec": {
   "display_name": "Python 3",
   "language": "python",
   "name": "python3"
  },
  "language_info": {
   "codemirror_mode": {
    "name": "ipython",
    "version": 3
   },
   "file_extension": ".py",
   "mimetype": "text/x-python",
   "name": "python",
   "nbconvert_exporter": "python",
   "pygments_lexer": "ipython3",
   "version": "3.12.2"
  }
 },
 "nbformat": 4,
 "nbformat_minor": 2
}
