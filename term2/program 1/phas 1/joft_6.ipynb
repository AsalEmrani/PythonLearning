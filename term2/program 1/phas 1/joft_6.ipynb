{
 "cells": [
  {
   "cell_type": "code",
   "execution_count": 2,
   "metadata": {},
   "outputs": [
    {
     "name": "stdout",
     "output_type": "stream",
     "text": [
      "5 5\n",
      "6 6\n",
      "26 times the loop runs\n",
      "and another 1 pairs have been produced\n"
     ]
    }
   ],
   "source": [
    "from random import *\n",
    "\n",
    "line = 0\n",
    "x = 0\n",
    "a = 0\n",
    "b = 0\n",
    "\n",
    "while True:\n",
    "    a = randint (1,6)\n",
    "    b = randint (1,6)\n",
    "    line = line + 1\n",
    "    #print(a,b)\n",
    "\n",
    "    if a == b :\n",
    "        x = x + 1 \n",
    "        print(a,b)\n",
    "\n",
    "    if a == 6 and b == 6 :\n",
    "        break\n",
    "\n",
    "print( line ,\"times the loop runs\" )\n",
    "print(\"and another\", (x-1) , \"pairs have been produced\")\n",
    "        "
   ]
  }
 ],
 "metadata": {
  "kernelspec": {
   "display_name": "Python 3",
   "language": "python",
   "name": "python3"
  },
  "language_info": {
   "codemirror_mode": {
    "name": "ipython",
    "version": 3
   },
   "file_extension": ".py",
   "mimetype": "text/x-python",
   "name": "python",
   "nbconvert_exporter": "python",
   "pygments_lexer": "ipython3",
   "version": "3.12.2"
  }
 },
 "nbformat": 4,
 "nbformat_minor": 2
}
