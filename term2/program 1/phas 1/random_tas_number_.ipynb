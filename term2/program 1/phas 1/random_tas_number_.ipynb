{
 "cells": [
  {
   "cell_type": "code",
   "execution_count": 2,
   "metadata": {},
   "outputs": [
    {
     "name": "stdout",
     "output_type": "stream",
     "text": [
      "6 6 => 1 times the loop runs \n",
      "1 1 => 2 times the loop runs \n",
      "5 5 => 26 times the loop runs \n",
      "26  times the loop runs \n"
     ]
    }
   ],
   "source": [
    "from random import *\n",
    "\n",
    "line = 0\n",
    "c = 0 \n",
    "while c < 3 :\n",
    "    a = randint (1,6)\n",
    "    b = randint (1,6)\n",
    "    line = line + 1 \n",
    "    if a == b :\n",
    "        print(a,b , \"=>\" , line , \"times the loop runs \")\n",
    "        c = c + 1 \n",
    "    if c == 3 :\n",
    "        print(line , \" times the loop runs \")"
   ]
  }
 ],
 "metadata": {
  "kernelspec": {
   "display_name": "Python 3",
   "language": "python",
   "name": "python3"
  },
  "language_info": {
   "codemirror_mode": {
    "name": "ipython",
    "version": 3
   },
   "file_extension": ".py",
   "mimetype": "text/x-python",
   "name": "python",
   "nbconvert_exporter": "python",
   "pygments_lexer": "ipython3",
   "version": "3.12.2"
  }
 },
 "nbformat": 4,
 "nbformat_minor": 2
}
