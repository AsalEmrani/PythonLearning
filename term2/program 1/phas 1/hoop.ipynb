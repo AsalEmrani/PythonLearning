{
 "cells": [
  {
   "cell_type": "code",
   "execution_count": 1,
   "metadata": {},
   "outputs": [
    {
     "name": "stdout",
     "output_type": "stream",
     "text": [
      "Hello 🙂\n",
      "Let's play hoop !!!!!\n",
      "You have 5 seconds for each turn! - Type * instead of hoop!\n",
      "\n",
      "1\n",
      "2\n",
      "*\n",
      "4\n",
      "5\n",
      "*\n",
      "7\n",
      "8\n",
      "*\n",
      "10\n",
      "11\n",
      "12\n",
      "you lose\n"
     ]
    }
   ],
   "source": [
    "print(\"Hello 🙂\")\n",
    "print(\"Let's play hoop !!!!!\")\n",
    "print(\"You have 5 seconds for each turn! - Type * instead of hoop!\")\n",
    "i = 0\n",
    "print(\"\")\n",
    "number = int(input(\"Please insert hoop cycle length (a number) : \"))\n",
    "\n",
    "while True:\n",
    "    i = i + 1\n",
    "    if i % number == 0 :\n",
    "        print(\"*\")\n",
    "    else :\n",
    "        print(i)\n",
    "\n",
    "    i = i + 1\n",
    "    x = input(\"your turn : \")\n",
    "    print(x)\n",
    "            \n",
    "    if x == \"*\" :\n",
    "        if  i % number > 0 :\n",
    "            print(\"you lose\")\n",
    "            break\n",
    "    else :\n",
    "        if i % number == 0 :\n",
    "            print(\"you lose\")\n",
    "            break\n",
    "        if int(x) != i :\n",
    "            print(\"you lose\")\n",
    "            break"
   ]
  }
 ],
 "metadata": {
  "kernelspec": {
   "display_name": "Python 3",
   "language": "python",
   "name": "python3"
  },
  "language_info": {
   "codemirror_mode": {
    "name": "ipython",
    "version": 3
   },
   "file_extension": ".py",
   "mimetype": "text/x-python",
   "name": "python",
   "nbconvert_exporter": "python",
   "pygments_lexer": "ipython3",
   "version": "3.12.2"
  }
 },
 "nbformat": 4,
 "nbformat_minor": 2
}
