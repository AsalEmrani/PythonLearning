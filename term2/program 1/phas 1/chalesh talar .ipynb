{
 "cells": [
  {
   "cell_type": "code",
   "execution_count": 2,
   "metadata": {},
   "outputs": [
    {
     "name": "stdout",
     "output_type": "stream",
     "text": [
      "3  *  5  =  15\n"
     ]
    }
   ],
   "source": [
    "n = \"y\"\n",
    "\n",
    "while n == \"y\" :\n",
    "    \n",
    "    a = int(input(\"Enter a number for a : \"))\n",
    "    b = int(input(\"Enter a number for b : \"))\n",
    "    print(a,\" * \" , b,\" = \",a*b)\n",
    "    \n",
    "    n=input(\"do you want to continue (y/n) \")\n",
    "    n = n.lower()\n"
   ]
  }
 ],
 "metadata": {
  "kernelspec": {
   "display_name": "Python 3",
   "language": "python",
   "name": "python3"
  },
  "language_info": {
   "codemirror_mode": {
    "name": "ipython",
    "version": 3
   },
   "file_extension": ".py",
   "mimetype": "text/x-python",
   "name": "python",
   "nbconvert_exporter": "python",
   "pygments_lexer": "ipython3",
   "version": "3.12.2"
  }
 },
 "nbformat": 4,
 "nbformat_minor": 2
}
