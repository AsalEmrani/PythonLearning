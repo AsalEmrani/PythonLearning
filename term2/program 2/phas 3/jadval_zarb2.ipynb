{
 "cells": [
  {
   "cell_type": "code",
   "execution_count": 4,
   "metadata": {},
   "outputs": [
    {
     "name": "stdout",
     "output_type": "stream",
     "text": [
      "Select operation.\n",
      "1.Add ( + )\n",
      "2.Subtract ( - )\n",
      "3.Multiply ( * )\n",
      "4.Divide ( / )\n",
      "5.tavan ( ** )\n",
      "2.0 + 2.0 = 4.0\n",
      "Invalid Input\n"
     ]
    },
    {
     "ename": "ValueError",
     "evalue": "could not convert string to float: ''",
     "output_type": "error",
     "traceback": [
      "\u001b[1;31m---------------------------------------------------------------------------\u001b[0m",
      "\u001b[1;31mValueError\u001b[0m                                Traceback (most recent call last)",
      "Cell \u001b[1;32mIn[4], line 31\u001b[0m\n\u001b[0;32m     27\u001b[0m     \u001b[38;5;28;01mbreak\u001b[39;00m\n\u001b[0;32m     29\u001b[0m \u001b[38;5;28;01mif\u001b[39;00m choice \u001b[38;5;129;01min\u001b[39;00m (\u001b[38;5;124m'\u001b[39m\u001b[38;5;124m1\u001b[39m\u001b[38;5;124m'\u001b[39m,\u001b[38;5;124m'\u001b[39m\u001b[38;5;124m2\u001b[39m\u001b[38;5;124m'\u001b[39m,\u001b[38;5;124m'\u001b[39m\u001b[38;5;124m3\u001b[39m\u001b[38;5;124m'\u001b[39m,\u001b[38;5;124m'\u001b[39m\u001b[38;5;124m4\u001b[39m\u001b[38;5;124m'\u001b[39m,\u001b[38;5;124m'\u001b[39m\u001b[38;5;124m5\u001b[39m\u001b[38;5;124m'\u001b[39m) :\n\u001b[1;32m---> 31\u001b[0m     num1 \u001b[38;5;241m=\u001b[39m \u001b[38;5;28;43mfloat\u001b[39;49m\u001b[43m(\u001b[49m\u001b[38;5;28;43minput\u001b[39;49m\u001b[43m(\u001b[49m\u001b[38;5;124;43m\"\u001b[39;49m\u001b[38;5;124;43mEnter first number: \u001b[39;49m\u001b[38;5;124;43m\"\u001b[39;49m\u001b[43m)\u001b[49m\u001b[43m)\u001b[49m\n\u001b[0;32m     32\u001b[0m     num2 \u001b[38;5;241m=\u001b[39m \u001b[38;5;28mfloat\u001b[39m(\u001b[38;5;28minput\u001b[39m(\u001b[38;5;124m\"\u001b[39m\u001b[38;5;124mEnter second number: \u001b[39m\u001b[38;5;124m\"\u001b[39m))    \n\u001b[0;32m     34\u001b[0m     \u001b[38;5;28;01mif\u001b[39;00m choice \u001b[38;5;241m==\u001b[39m \u001b[38;5;124m'\u001b[39m\u001b[38;5;124m1\u001b[39m\u001b[38;5;124m'\u001b[39m:\n",
      "\u001b[1;31mValueError\u001b[0m: could not convert string to float: ''"
     ]
    }
   ],
   "source": [
    "def add(x, y):\n",
    "    return x + y\n",
    "\n",
    "def subtract(x, y):\n",
    "    return x - y\n",
    "\n",
    "def multiply(x, y):\n",
    "    return x * y\n",
    "\n",
    "def divide(x, y):\n",
    "    return x / y\n",
    "\n",
    "def tavan(x, y):\n",
    "    return x ** y\n",
    "\n",
    "print(\"Select operation.\")\n",
    "print(\"1.Add ( + )\")\n",
    "print(\"2.Subtract ( - )\")\n",
    "print(\"3.Multiply ( * )\")\n",
    "print(\"4.Divide ( / )\")\n",
    "print(\"5.tavan ( ** )\")\n",
    "\n",
    "while True:\n",
    "    choice = input(\"Enter choice(1/2/3/4/5/exit): \")\n",
    "    \n",
    "    if choice == 'exit':\n",
    "        break\n",
    "\n",
    "    if choice in ('1','2','3','4','5') :\n",
    "    \n",
    "        num1 = float(input(\"Enter first number: \"))\n",
    "        num2 = float(input(\"Enter second number: \"))    \n",
    "\n",
    "        if choice == '1':\n",
    "            print(num1,\"+\",num2,\"=\", add(num1, num2) )\n",
    "        elif choice == '2':\n",
    "            print(num1,\"-\",num2,\"=\", subtract(num1, num2) )\n",
    "        elif choice == '3':\n",
    "            print(num1,\"*\", num2,\"=\", multiply(num1, num2) )\n",
    "        elif choice == '4':\n",
    "            print(num1,\"/\", num2,\"=\", divide(num1, num2) )\n",
    "        elif choice == '5':\n",
    "            print(num1,\"**\", num2,\"=\", tavan(num1, num2) )\n",
    "\n",
    "\n",
    "        if choice == '1' and  num1 == 0 or num2 == 0:\n",
    "            print(num1,\"+\",num2,\"=\", \"EROR ! \" )\n",
    "        elif choice == '2' and num1 == 0  or num2 == 0:\n",
    "            print(num1,\"-\",num2,\"=\",\"EROR ! \")\n",
    "        elif choice == '3' and num1 == 0  or num2 == 0:\n",
    "            print(num1,\"*\", num2,\"=\", \"EROR ! \" )\n",
    "        elif choice == '4' and num1 == 0 or num2 == 0:\n",
    "            print(num1,\"/\", num2,\"=\", \"EROR !\")\n",
    "        elif choice == '5' and num1 == 0 or num2 == 0 :\n",
    "            print(num1,\"**\", num2,\"=\", \"EROR\" )\n",
    "\n",
    "    else:\n",
    "        print(\"Invalid Input\")"
   ]
  }
 ],
 "metadata": {
  "kernelspec": {
   "display_name": "Python 3",
   "language": "python",
   "name": "python3"
  },
  "language_info": {
   "codemirror_mode": {
    "name": "ipython",
    "version": 3
   },
   "file_extension": ".py",
   "mimetype": "text/x-python",
   "name": "python",
   "nbconvert_exporter": "python",
   "pygments_lexer": "ipython3",
   "version": "3.12.2"
  }
 },
 "nbformat": 4,
 "nbformat_minor": 2
}
