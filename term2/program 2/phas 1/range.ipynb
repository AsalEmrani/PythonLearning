{
 "cells": [
  {
   "cell_type": "code",
   "execution_count": 1,
   "metadata": {},
   "outputs": [
    {
     "name": "stdout",
     "output_type": "stream",
     "text": [
      "my_range:  [5, 15, 25, 35, 45, 55, 65, 75, 85, 95]\n",
      "range: 5, 15, 25, 35, 45, 55, 65, 75, 85, 95, "
     ]
    }
   ],
   "source": [
    "def my_range (start, stop, step):\n",
    "    s = []\n",
    "    x = start\n",
    "\n",
    "    while x < stop:\n",
    "        s.append(x)\n",
    "        x = x + step \n",
    "   \n",
    "    return s\n",
    "\n",
    "\n",
    "sta = int(input(\"Enter a number for start : \"))\n",
    "sto = int(input(\"Enter a number for stop : \"))\n",
    "ste = int(input(\"Enter a number for step : \"))\n",
    "\n",
    "c = my_range(sta, sto, ste)\n",
    "print('my_range: ', c)\n",
    "\n",
    "print('range: ', end= '')\n",
    "for n in range(sta, sto, ste):\n",
    "  print(n, end=', ')\n"
   ]
  }
 ],
 "metadata": {
  "kernelspec": {
   "display_name": "Python 3",
   "language": "python",
   "name": "python3"
  },
  "language_info": {
   "codemirror_mode": {
    "name": "ipython",
    "version": 3
   },
   "file_extension": ".py",
   "mimetype": "text/x-python",
   "name": "python",
   "nbconvert_exporter": "python",
   "pygments_lexer": "ipython3",
   "version": "3.12.2"
  }
 },
 "nbformat": 4,
 "nbformat_minor": 2
}
