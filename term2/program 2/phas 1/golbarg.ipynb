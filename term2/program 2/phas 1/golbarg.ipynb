{
 "cells": [
  {
   "cell_type": "code",
   "execution_count": 1,
   "metadata": {},
   "outputs": [
    {
     "ename": "Terminator",
     "evalue": "",
     "output_type": "error",
     "traceback": [
      "\u001b[1;31m---------------------------------------------------------------------------\u001b[0m",
      "\u001b[1;31mTerminator\u001b[0m                                Traceback (most recent call last)",
      "Cell \u001b[1;32mIn[1], line 18\u001b[0m\n\u001b[0;32m     15\u001b[0m bgcolor(\u001b[38;5;124m\"\u001b[39m\u001b[38;5;124mlightgreen\u001b[39m\u001b[38;5;124m\"\u001b[39m)\n\u001b[0;32m     17\u001b[0m golbarg(\u001b[38;5;124m\"\u001b[39m\u001b[38;5;124mred\u001b[39m\u001b[38;5;124m\"\u001b[39m, \u001b[38;5;241m20\u001b[39m, \u001b[38;5;241m60\u001b[39m, \u001b[38;5;241m2\u001b[39m, \u001b[38;5;241m5\u001b[39m)\n\u001b[1;32m---> 18\u001b[0m \u001b[43mgolbarg\u001b[49m\u001b[43m(\u001b[49m\u001b[38;5;124;43m\"\u001b[39;49m\u001b[38;5;124;43morange\u001b[39;49m\u001b[38;5;124;43m\"\u001b[39;49m\u001b[43m,\u001b[49m\u001b[43m \u001b[49m\u001b[38;5;241;43m10\u001b[39;49m\u001b[43m,\u001b[49m\u001b[43m \u001b[49m\u001b[38;5;241;43m30\u001b[39;49m\u001b[43m,\u001b[49m\u001b[43m \u001b[49m\u001b[38;5;241;43m1\u001b[39;49m\u001b[43m,\u001b[49m\u001b[43m \u001b[49m\u001b[38;5;241;43m3\u001b[39;49m\u001b[43m)\u001b[49m\n\u001b[0;32m     19\u001b[0m golbarg(\u001b[38;5;124m\"\u001b[39m\u001b[38;5;124mred\u001b[39m\u001b[38;5;124m\"\u001b[39m, \u001b[38;5;241m0\u001b[39m, \u001b[38;5;241m15\u001b[39m, \u001b[38;5;241m1\u001b[39m, \u001b[38;5;241m2\u001b[39m)\n\u001b[0;32m     21\u001b[0m pensize(\u001b[38;5;241m20\u001b[39m)\n",
      "Cell \u001b[1;32mIn[1], line 8\u001b[0m, in \u001b[0;36mgolbarg\u001b[1;34m(_color, _from, _to, _step, _forward)\u001b[0m\n\u001b[0;32m      6\u001b[0m \u001b[38;5;28;01mfor\u001b[39;00m j \u001b[38;5;129;01min\u001b[39;00m \u001b[38;5;28mrange\u001b[39m(_from, _to, _step):\n\u001b[0;32m      7\u001b[0m     pensize(j)\n\u001b[1;32m----> 8\u001b[0m     \u001b[43mforward\u001b[49m\u001b[43m(\u001b[49m\u001b[43m_forward\u001b[49m\u001b[43m)\u001b[49m\n\u001b[0;32m      9\u001b[0m penup()\n\u001b[0;32m     10\u001b[0m goto(\u001b[38;5;241m0\u001b[39m,\u001b[38;5;241m0\u001b[39m)\n",
      "File \u001b[1;32m<string>:5\u001b[0m, in \u001b[0;36mforward\u001b[1;34m(distance)\u001b[0m\n",
      "\u001b[1;31mTerminator\u001b[0m: "
     ]
    }
   ],
   "source": [
    "from turtle import *\n",
    "\n",
    "def golbarg(_color, _from, _to, _step, _forward):\n",
    "    color(_color)\n",
    "    for i in range(10):\n",
    "        for j in range(_from, _to, _step):\n",
    "            pensize(j)\n",
    "            forward(_forward)\n",
    "        penup()\n",
    "        goto(0,0)\n",
    "        pendown()\n",
    "        left(36)\n",
    "\n",
    "\n",
    "bgcolor(\"lightgreen\")\n",
    "\n",
    "golbarg(\"red\", 20, 60, 2, 5)\n",
    "golbarg(\"orange\", 10, 30, 1, 3)\n",
    "golbarg(\"red\", 0, 15, 1, 2)\n",
    "    \n",
    "pensize(20)\n",
    "color(\"olive\")   \n",
    "goto(0,0)"
   ]
  }
 ],
 "metadata": {
  "kernelspec": {
   "display_name": "Python 3",
   "language": "python",
   "name": "python3"
  },
  "language_info": {
   "codemirror_mode": {
    "name": "ipython",
    "version": 3
   },
   "file_extension": ".py",
   "mimetype": "text/x-python",
   "name": "python",
   "nbconvert_exporter": "python",
   "pygments_lexer": "ipython3",
   "version": "3.12.2"
  }
 },
 "nbformat": 4,
 "nbformat_minor": 2
}
