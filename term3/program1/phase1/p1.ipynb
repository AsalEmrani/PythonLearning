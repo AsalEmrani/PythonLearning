{
 "cells": [
  {
   "cell_type": "code",
   "execution_count": null,
   "metadata": {},
   "outputs": [],
   "source": [
    "\n",
    "from mcpi_e.minecraft import *\n",
    "\n",
    "server_address = \"Pycraft.yasan.ac:11110\"\n",
    "python_port = 11130\n",
    "player_name = \"a_Emrani\"\n",
    "\n",
    "mc = Minecraft.create(server_address, python_port, player_name)\n",
    "\n",
    "for y in range(5):\n",
    "  for x in range(5-y) :\n",
    "    mc.setblock(x+y+1, y+1, Gold_black)"
   ]
  },
  {
   "cell_type": "code",
   "execution_count": null,
   "metadata": {},
   "outputs": [],
   "source": [
    "from mcpi_e.minecraft import *\n",
    "\n",
    "server_address = \"Pycraft.yasan.ac:11110\"\n",
    "python_port = 11130\n",
    "player_name = \"a_Emrani\"\n",
    "\n",
    "mc = Minecraft.create(server_address, python_port, player_name)\n",
    "\n",
    "for z in range(5):\n",
    "  for y in rang(5):\n",
    "    for x in range(5):\n",
    "      mc.setblock(x+1, y+1, z+1, Gold_black )\n"
   ]
  },
  {
   "cell_type": "code",
   "execution_count": null,
   "metadata": {},
   "outputs": [],
   "source": [
    "\n",
    "from mcpi_e.minecraft import *\n",
    "\n",
    "server_address = \"Pycraft.yasan.ac\"\n",
    "python_port = 11110\n",
    "player_name = \"a_Emrani\"\n",
    "\n",
    "mc = Minecraft.create(server_address, python_port, player_name)\n",
    "\n",
    "for x in range(10):\n",
    "  for z in range(10):\n",
    "    mc.setblock(1,x+1,z+1, Gold_black)"
   ]
  }
 ],
 "metadata": {
  "language_info": {
   "name": "python"
  }
 },
 "nbformat": 4,
 "nbformat_minor": 2
}
